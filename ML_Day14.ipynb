{
 "cells": [
  {
   "cell_type": "markdown",
   "id": "4ebf8bfc-48e4-410b-93fd-b8751f122ab8",
   "metadata": {},
   "source": [
    "## Recommendation Engine\n",
    "<p>A recommendation engine is a system that suggests products, servies or content to users based on various data.</p>\n",
    "<ul>\n",
    "    <li>NETFLIX</li>\n",
    "    <li>AMAZON</li>\n",
    "    <li>SPOTIFY</li>\n",
    "</ul>"
   ]
  },
  {
   "cell_type": "markdown",
   "id": "44bab940-ebf2-4e10-9f44-63b3bc5d8062",
   "metadata": {},
   "source": [
    "<h4>Types of Recommendation System</h4>\n",
    "<ol>\n",
    "    <li>Collaborative Filtering</li>\n",
    "    <li>Content-Based Filtering</li>\n",
    "    <li>Accociation Rule Mining</li>\n",
    "</ol>"
   ]
  },
  {
   "cell_type": "markdown",
   "id": "1116cc73-fb41-4a34-bbbb-4e339cf2dc75",
   "metadata": {},
   "source": [
    "## 1. Collaborative Filtering\n",
    "<p>Recommendation are made based on user-user or item-item similarities</p>"
   ]
  },
  {
   "cell_type": "markdown",
   "id": "0ab1ddc2-8013-473a-bea2-bb1e88a55f3e",
   "metadata": {},
   "source": [
    "<ul>\n",
    "    <li>User-Based: \"Users Similar to you liked A\"</li>\n",
    "    <li>Item-Based: \"Users who liked item A also liked item B\"</li>\n",
    "</ul>"
   ]
  },
  {
   "cell_type": "code",
   "execution_count": 1,
   "id": "649ad591-a989-4918-a08c-82ee37bf32f0",
   "metadata": {},
   "outputs": [],
   "source": [
    "# Now Practice Usages\n",
    "import pandas as pd\n",
    "import numpy as np"
   ]
  },
  {
   "cell_type": "code",
   "execution_count": 2,
   "id": "4569087f-b46a-44fe-b1af-363968d8f320",
   "metadata": {},
   "outputs": [],
   "source": [
    "data = {\n",
    "    'UserA':[5,3,np.nan,1],\n",
    "    'UserB':[4,2,5,1],\n",
    "    'UserC':[4,3,4,1]\n",
    "}"
   ]
  },
  {
   "cell_type": "code",
   "execution_count": 3,
   "id": "8460cdf4-a326-4741-a68b-a6dd1b971587",
   "metadata": {},
   "outputs": [],
   "source": [
    "df = pd.DataFrame(data)"
   ]
  },
  {
   "cell_type": "code",
   "execution_count": 4,
   "id": "b7ecf0af-5192-4586-b316-135063e075ed",
   "metadata": {},
   "outputs": [
    {
     "data": {
      "text/html": [
       "<div>\n",
       "<style scoped>\n",
       "    .dataframe tbody tr th:only-of-type {\n",
       "        vertical-align: middle;\n",
       "    }\n",
       "\n",
       "    .dataframe tbody tr th {\n",
       "        vertical-align: top;\n",
       "    }\n",
       "\n",
       "    .dataframe thead th {\n",
       "        text-align: right;\n",
       "    }\n",
       "</style>\n",
       "<table border=\"1\" class=\"dataframe\">\n",
       "  <thead>\n",
       "    <tr style=\"text-align: right;\">\n",
       "      <th></th>\n",
       "      <th>UserA</th>\n",
       "      <th>UserB</th>\n",
       "      <th>UserC</th>\n",
       "    </tr>\n",
       "  </thead>\n",
       "  <tbody>\n",
       "    <tr>\n",
       "      <th>0</th>\n",
       "      <td>5.0</td>\n",
       "      <td>4</td>\n",
       "      <td>4</td>\n",
       "    </tr>\n",
       "    <tr>\n",
       "      <th>1</th>\n",
       "      <td>3.0</td>\n",
       "      <td>2</td>\n",
       "      <td>3</td>\n",
       "    </tr>\n",
       "    <tr>\n",
       "      <th>2</th>\n",
       "      <td>NaN</td>\n",
       "      <td>5</td>\n",
       "      <td>4</td>\n",
       "    </tr>\n",
       "    <tr>\n",
       "      <th>3</th>\n",
       "      <td>1.0</td>\n",
       "      <td>1</td>\n",
       "      <td>1</td>\n",
       "    </tr>\n",
       "  </tbody>\n",
       "</table>\n",
       "</div>"
      ],
      "text/plain": [
       "   UserA  UserB  UserC\n",
       "0    5.0      4      4\n",
       "1    3.0      2      3\n",
       "2    NaN      5      4\n",
       "3    1.0      1      1"
      ]
     },
     "execution_count": 4,
     "metadata": {},
     "output_type": "execute_result"
    }
   ],
   "source": [
    "df"
   ]
  },
  {
   "cell_type": "markdown",
   "id": "ec8eb6a2-4a86-4e0a-889d-8f4a9ce95097",
   "metadata": {},
   "source": [
    "### Target: We want to predict how user A would rate Movie3?\n",
    "- Find users similar to User A using similarity metrics like cosine_similarity\n",
    "  or pearson correlation\n",
    "- Use their rating to preduct the missing value"
   ]
  },
  {
   "cell_type": "code",
   "execution_count": 5,
   "id": "d89040c5-3eda-4369-b5ec-15ff918563b9",
   "metadata": {},
   "outputs": [],
   "source": [
    "from sklearn.metrics.pairwise import cosine_similarity"
   ]
  },
  {
   "cell_type": "code",
   "execution_count": 6,
   "id": "b46e334f-a283-412d-9645-f206286314b2",
   "metadata": {},
   "outputs": [
    {
     "data": {
      "text/html": [
       "<div>\n",
       "<style scoped>\n",
       "    .dataframe tbody tr th:only-of-type {\n",
       "        vertical-align: middle;\n",
       "    }\n",
       "\n",
       "    .dataframe tbody tr th {\n",
       "        vertical-align: top;\n",
       "    }\n",
       "\n",
       "    .dataframe thead th {\n",
       "        text-align: right;\n",
       "    }\n",
       "</style>\n",
       "<table border=\"1\" class=\"dataframe\">\n",
       "  <thead>\n",
       "    <tr style=\"text-align: right;\">\n",
       "      <th></th>\n",
       "      <th>Movie1</th>\n",
       "      <th>Movie2</th>\n",
       "      <th>Movie3</th>\n",
       "      <th>Movie4</th>\n",
       "    </tr>\n",
       "  </thead>\n",
       "  <tbody>\n",
       "    <tr>\n",
       "      <th>UserA</th>\n",
       "      <td>5.0</td>\n",
       "      <td>3.0</td>\n",
       "      <td>NaN</td>\n",
       "      <td>1.0</td>\n",
       "    </tr>\n",
       "    <tr>\n",
       "      <th>UserB</th>\n",
       "      <td>4.0</td>\n",
       "      <td>2.0</td>\n",
       "      <td>5.0</td>\n",
       "      <td>1.0</td>\n",
       "    </tr>\n",
       "    <tr>\n",
       "      <th>UserC</th>\n",
       "      <td>4.0</td>\n",
       "      <td>3.0</td>\n",
       "      <td>4.0</td>\n",
       "      <td>1.0</td>\n",
       "    </tr>\n",
       "  </tbody>\n",
       "</table>\n",
       "</div>"
      ],
      "text/plain": [
       "       Movie1  Movie2  Movie3  Movie4\n",
       "UserA     5.0     3.0     NaN     1.0\n",
       "UserB     4.0     2.0     5.0     1.0\n",
       "UserC     4.0     3.0     4.0     1.0"
      ]
     },
     "execution_count": 6,
     "metadata": {},
     "output_type": "execute_result"
    }
   ],
   "source": [
    "df = pd.DataFrame(data, index=['Movie1','Movie2','Movie3','Movie4']).T\n",
    "df"
   ]
  },
  {
   "cell_type": "code",
   "execution_count": 7,
   "id": "9ab79eb0-f49f-43e5-b622-b1a9376ae8ad",
   "metadata": {},
   "outputs": [],
   "source": [
    "df_filled = df.fillna(0)"
   ]
  },
  {
   "cell_type": "code",
   "execution_count": 8,
   "id": "aa0a82ad-05fb-4349-a613-e44650b534d3",
   "metadata": {},
   "outputs": [
    {
     "data": {
      "text/html": [
       "<div>\n",
       "<style scoped>\n",
       "    .dataframe tbody tr th:only-of-type {\n",
       "        vertical-align: middle;\n",
       "    }\n",
       "\n",
       "    .dataframe tbody tr th {\n",
       "        vertical-align: top;\n",
       "    }\n",
       "\n",
       "    .dataframe thead th {\n",
       "        text-align: right;\n",
       "    }\n",
       "</style>\n",
       "<table border=\"1\" class=\"dataframe\">\n",
       "  <thead>\n",
       "    <tr style=\"text-align: right;\">\n",
       "      <th></th>\n",
       "      <th>Movie1</th>\n",
       "      <th>Movie2</th>\n",
       "      <th>Movie3</th>\n",
       "      <th>Movie4</th>\n",
       "    </tr>\n",
       "  </thead>\n",
       "  <tbody>\n",
       "    <tr>\n",
       "      <th>UserA</th>\n",
       "      <td>5.0</td>\n",
       "      <td>3.0</td>\n",
       "      <td>0.0</td>\n",
       "      <td>1.0</td>\n",
       "    </tr>\n",
       "    <tr>\n",
       "      <th>UserB</th>\n",
       "      <td>4.0</td>\n",
       "      <td>2.0</td>\n",
       "      <td>5.0</td>\n",
       "      <td>1.0</td>\n",
       "    </tr>\n",
       "    <tr>\n",
       "      <th>UserC</th>\n",
       "      <td>4.0</td>\n",
       "      <td>3.0</td>\n",
       "      <td>4.0</td>\n",
       "      <td>1.0</td>\n",
       "    </tr>\n",
       "  </tbody>\n",
       "</table>\n",
       "</div>"
      ],
      "text/plain": [
       "       Movie1  Movie2  Movie3  Movie4\n",
       "UserA     5.0     3.0     0.0     1.0\n",
       "UserB     4.0     2.0     5.0     1.0\n",
       "UserC     4.0     3.0     4.0     1.0"
      ]
     },
     "execution_count": 8,
     "metadata": {},
     "output_type": "execute_result"
    }
   ],
   "source": [
    "df_filled"
   ]
  },
  {
   "cell_type": "code",
   "execution_count": 9,
   "id": "42a77514-5860-4e16-9130-85b58fef7886",
   "metadata": {},
   "outputs": [],
   "source": [
    "similarity = cosine_similarity(df_filled.T)"
   ]
  },
  {
   "cell_type": "code",
   "execution_count": 10,
   "id": "dacdb077-bfc9-4350-b4f5-a5fac3629e8e",
   "metadata": {},
   "outputs": [],
   "source": [
    "similarity_df = pd.DataFrame(similarity, index=df.columns, columns=df.columns)"
   ]
  },
  {
   "cell_type": "code",
   "execution_count": 11,
   "id": "f056f643-ee79-4059-a6e9-5b1102c27326",
   "metadata": {},
   "outputs": [
    {
     "data": {
      "text/html": [
       "<div>\n",
       "<style scoped>\n",
       "    .dataframe tbody tr th:only-of-type {\n",
       "        vertical-align: middle;\n",
       "    }\n",
       "\n",
       "    .dataframe tbody tr th {\n",
       "        vertical-align: top;\n",
       "    }\n",
       "\n",
       "    .dataframe thead th {\n",
       "        text-align: right;\n",
       "    }\n",
       "</style>\n",
       "<table border=\"1\" class=\"dataframe\">\n",
       "  <thead>\n",
       "    <tr style=\"text-align: right;\">\n",
       "      <th></th>\n",
       "      <th>Movie1</th>\n",
       "      <th>Movie2</th>\n",
       "      <th>Movie3</th>\n",
       "      <th>Movie4</th>\n",
       "    </tr>\n",
       "  </thead>\n",
       "  <tbody>\n",
       "    <tr>\n",
       "      <th>Movie1</th>\n",
       "      <td>1.000000</td>\n",
       "      <td>0.988369</td>\n",
       "      <td>0.744686</td>\n",
       "      <td>0.994135</td>\n",
       "    </tr>\n",
       "    <tr>\n",
       "      <th>Movie2</th>\n",
       "      <td>0.988369</td>\n",
       "      <td>1.000000</td>\n",
       "      <td>0.732520</td>\n",
       "      <td>0.984732</td>\n",
       "    </tr>\n",
       "    <tr>\n",
       "      <th>Movie3</th>\n",
       "      <td>0.744686</td>\n",
       "      <td>0.732520</td>\n",
       "      <td>1.000000</td>\n",
       "      <td>0.811503</td>\n",
       "    </tr>\n",
       "    <tr>\n",
       "      <th>Movie4</th>\n",
       "      <td>0.994135</td>\n",
       "      <td>0.984732</td>\n",
       "      <td>0.811503</td>\n",
       "      <td>1.000000</td>\n",
       "    </tr>\n",
       "  </tbody>\n",
       "</table>\n",
       "</div>"
      ],
      "text/plain": [
       "          Movie1    Movie2    Movie3    Movie4\n",
       "Movie1  1.000000  0.988369  0.744686  0.994135\n",
       "Movie2  0.988369  1.000000  0.732520  0.984732\n",
       "Movie3  0.744686  0.732520  1.000000  0.811503\n",
       "Movie4  0.994135  0.984732  0.811503  1.000000"
      ]
     },
     "execution_count": 11,
     "metadata": {},
     "output_type": "execute_result"
    }
   ],
   "source": [
    "similarity_df"
   ]
  },
  {
   "cell_type": "code",
   "execution_count": 12,
   "id": "4fa71e5e-eb0e-44fe-ba15-8eb57bab1ac0",
   "metadata": {},
   "outputs": [],
   "source": [
    "movie_similarities = similarity_df['Movie3']"
   ]
  },
  {
   "cell_type": "code",
   "execution_count": 13,
   "id": "5b220d76-fd00-471b-889d-4cf7c4e0df76",
   "metadata": {},
   "outputs": [
    {
     "data": {
      "text/plain": [
       "Movie1    0.744686\n",
       "Movie2    0.732520\n",
       "Movie3    1.000000\n",
       "Movie4    0.811503\n",
       "Name: Movie3, dtype: float64"
      ]
     },
     "execution_count": 13,
     "metadata": {},
     "output_type": "execute_result"
    }
   ],
   "source": [
    "movie_similarities"
   ]
  },
  {
   "cell_type": "code",
   "execution_count": 14,
   "id": "cb1cb514-817c-4b19-b9d2-73647b0e1ea7",
   "metadata": {},
   "outputs": [],
   "source": [
    "userA_ratings = df.loc['UserA']"
   ]
  },
  {
   "cell_type": "code",
   "execution_count": 15,
   "id": "a2e37c64-d9ed-4782-b105-37b2a2baf88b",
   "metadata": {},
   "outputs": [
    {
     "data": {
      "text/plain": [
       "Movie1    5.0\n",
       "Movie2    3.0\n",
       "Movie3    NaN\n",
       "Movie4    1.0\n",
       "Name: UserA, dtype: float64"
      ]
     },
     "execution_count": 15,
     "metadata": {},
     "output_type": "execute_result"
    }
   ],
   "source": [
    "userA_ratings"
   ]
  },
  {
   "cell_type": "code",
   "execution_count": 16,
   "id": "f98aa01b-eefb-424c-834a-8ffd04873408",
   "metadata": {},
   "outputs": [],
   "source": [
    "predicted_rating = np.dot(movie_similarities, userA_ratings.fillna(0)/movie_similarities.sum())"
   ]
  },
  {
   "cell_type": "code",
   "execution_count": 17,
   "id": "064e8563-6fa8-4e1f-bff7-9f1a720ac716",
   "metadata": {},
   "outputs": [
    {
     "name": "stdout",
     "output_type": "stream",
     "text": [
      "Predicted Rating for Movie3:  2.0\n"
     ]
    }
   ],
   "source": [
    "print(\"Predicted Rating for Movie3: \",round(predicted_rating,0))"
   ]
  },
  {
   "cell_type": "markdown",
   "id": "91c84805-044d-4bd0-8e6e-5ef5c784a007",
   "metadata": {},
   "source": [
    "## 2.Content Based Filtering\n",
    "<p>Recommend itmes similar to items the user liked, based on item features.</p>"
   ]
  },
  {
   "cell_type": "code",
   "execution_count": 18,
   "id": "357ed033-a2d5-4df4-8812-1f3650ef6cbc",
   "metadata": {},
   "outputs": [],
   "source": [
    "movies = pd.DataFrame({\n",
    "    'Action': [1,0,1],\n",
    "    'Comedy': [0,1,1],\n",
    "    'Drama': [1,1,0]\n",
    "},index=['Movie1', 'Movie2','Movie3'])"
   ]
  },
  {
   "cell_type": "code",
   "execution_count": 19,
   "id": "1c353248-2e95-488a-95b1-69a8c6e219a4",
   "metadata": {},
   "outputs": [
    {
     "data": {
      "text/html": [
       "<div>\n",
       "<style scoped>\n",
       "    .dataframe tbody tr th:only-of-type {\n",
       "        vertical-align: middle;\n",
       "    }\n",
       "\n",
       "    .dataframe tbody tr th {\n",
       "        vertical-align: top;\n",
       "    }\n",
       "\n",
       "    .dataframe thead th {\n",
       "        text-align: right;\n",
       "    }\n",
       "</style>\n",
       "<table border=\"1\" class=\"dataframe\">\n",
       "  <thead>\n",
       "    <tr style=\"text-align: right;\">\n",
       "      <th></th>\n",
       "      <th>Action</th>\n",
       "      <th>Comedy</th>\n",
       "      <th>Drama</th>\n",
       "    </tr>\n",
       "  </thead>\n",
       "  <tbody>\n",
       "    <tr>\n",
       "      <th>Movie1</th>\n",
       "      <td>1</td>\n",
       "      <td>0</td>\n",
       "      <td>1</td>\n",
       "    </tr>\n",
       "    <tr>\n",
       "      <th>Movie2</th>\n",
       "      <td>0</td>\n",
       "      <td>1</td>\n",
       "      <td>1</td>\n",
       "    </tr>\n",
       "    <tr>\n",
       "      <th>Movie3</th>\n",
       "      <td>1</td>\n",
       "      <td>1</td>\n",
       "      <td>0</td>\n",
       "    </tr>\n",
       "  </tbody>\n",
       "</table>\n",
       "</div>"
      ],
      "text/plain": [
       "        Action  Comedy  Drama\n",
       "Movie1       1       0      1\n",
       "Movie2       0       1      1\n",
       "Movie3       1       1      0"
      ]
     },
     "execution_count": 19,
     "metadata": {},
     "output_type": "execute_result"
    }
   ],
   "source": [
    "movies"
   ]
  },
  {
   "cell_type": "code",
   "execution_count": 20,
   "id": "580ea62e-4892-4c9e-99e9-14bb576211aa",
   "metadata": {},
   "outputs": [
    {
     "data": {
      "text/html": [
       "<div>\n",
       "<style scoped>\n",
       "    .dataframe tbody tr th:only-of-type {\n",
       "        vertical-align: middle;\n",
       "    }\n",
       "\n",
       "    .dataframe tbody tr th {\n",
       "        vertical-align: top;\n",
       "    }\n",
       "\n",
       "    .dataframe thead th {\n",
       "        text-align: right;\n",
       "    }\n",
       "</style>\n",
       "<table border=\"1\" class=\"dataframe\">\n",
       "  <thead>\n",
       "    <tr style=\"text-align: right;\">\n",
       "      <th></th>\n",
       "      <th>Action</th>\n",
       "      <th>Comedy</th>\n",
       "      <th>Drama</th>\n",
       "    </tr>\n",
       "  </thead>\n",
       "  <tbody>\n",
       "    <tr>\n",
       "      <th>Movie1</th>\n",
       "      <td>1</td>\n",
       "      <td>0</td>\n",
       "      <td>1</td>\n",
       "    </tr>\n",
       "  </tbody>\n",
       "</table>\n",
       "</div>"
      ],
      "text/plain": [
       "        Action  Comedy  Drama\n",
       "Movie1       1       0      1"
      ]
     },
     "execution_count": 20,
     "metadata": {},
     "output_type": "execute_result"
    }
   ],
   "source": [
    "# Assume user Liked Movie1\n",
    "liked_movie = movies.loc[['Movie1']]\n",
    "liked_movie"
   ]
  },
  {
   "cell_type": "code",
   "execution_count": 21,
   "id": "fb9d9186-1f43-4d95-8b6a-3905a54c72f1",
   "metadata": {},
   "outputs": [],
   "source": [
    "similarity = cosine_similarity(liked_movie,movies)[0]"
   ]
  },
  {
   "cell_type": "code",
   "execution_count": 22,
   "id": "997712f4-24ea-45ae-8b2e-f6741a93eb98",
   "metadata": {},
   "outputs": [
    {
     "data": {
      "text/plain": [
       "array([1. , 0.5, 0.5])"
      ]
     },
     "execution_count": 22,
     "metadata": {},
     "output_type": "execute_result"
    }
   ],
   "source": [
    "similarity"
   ]
  },
  {
   "cell_type": "code",
   "execution_count": 23,
   "id": "701618d3-4ed6-4b1f-9ee8-3b7bae73a755",
   "metadata": {},
   "outputs": [],
   "source": [
    "recommendations = pd.Series(similarity, index=movies.index).sort_values(ascending=False)"
   ]
  },
  {
   "cell_type": "code",
   "execution_count": 24,
   "id": "92d08e93-667e-4e9b-9036-52606c0ec81b",
   "metadata": {},
   "outputs": [
    {
     "data": {
      "text/plain": [
       "Movie1    1.0\n",
       "Movie2    0.5\n",
       "Movie3    0.5\n",
       "dtype: float64"
      ]
     },
     "execution_count": 24,
     "metadata": {},
     "output_type": "execute_result"
    }
   ],
   "source": [
    "recommendations"
   ]
  },
  {
   "cell_type": "code",
   "execution_count": 25,
   "id": "9a041edc-11f4-4c0e-8340-6d658a6d2730",
   "metadata": {},
   "outputs": [
    {
     "name": "stdout",
     "output_type": "stream",
     "text": [
      "Recommended Movies : Movie1    1.0\n",
      "Movie2    0.5\n",
      "Movie3    0.5\n",
      "dtype: float64\n"
     ]
    }
   ],
   "source": [
    "print(\"Recommended Movies :\",recommendations)"
   ]
  },
  {
   "cell_type": "code",
   "execution_count": 26,
   "id": "6dbed1eb-8e3b-4c97-b5b2-944e25eb25b0",
   "metadata": {},
   "outputs": [
    {
     "data": {
      "text/html": [
       "<div>\n",
       "<style scoped>\n",
       "    .dataframe tbody tr th:only-of-type {\n",
       "        vertical-align: middle;\n",
       "    }\n",
       "\n",
       "    .dataframe tbody tr th {\n",
       "        vertical-align: top;\n",
       "    }\n",
       "\n",
       "    .dataframe thead th {\n",
       "        text-align: right;\n",
       "    }\n",
       "</style>\n",
       "<table border=\"1\" class=\"dataframe\">\n",
       "  <thead>\n",
       "    <tr style=\"text-align: right;\">\n",
       "      <th></th>\n",
       "      <th>Action</th>\n",
       "      <th>Comedy</th>\n",
       "      <th>Drama</th>\n",
       "    </tr>\n",
       "  </thead>\n",
       "  <tbody>\n",
       "    <tr>\n",
       "      <th>Movies8</th>\n",
       "      <td>1</td>\n",
       "      <td>0</td>\n",
       "      <td>1</td>\n",
       "    </tr>\n",
       "  </tbody>\n",
       "</table>\n",
       "</div>"
      ],
      "text/plain": [
       "         Action  Comedy  Drama\n",
       "Movies8       1       0      1"
      ]
     },
     "execution_count": 26,
     "metadata": {},
     "output_type": "execute_result"
    }
   ],
   "source": [
    "like_movie = pd.DataFrame({\n",
    "    'Action':[1],\n",
    "    'Comedy':[0],\n",
    "    'Drama':[1]\n",
    "},index=['Movies8'])\n",
    "like_movie"
   ]
  },
  {
   "cell_type": "code",
   "execution_count": 27,
   "id": "e18bd60b-92b4-499b-8b8e-855bed72d45b",
   "metadata": {},
   "outputs": [],
   "source": [
    "similarity = cosine_similarity(like_movie,movies)[0]"
   ]
  },
  {
   "cell_type": "code",
   "execution_count": 28,
   "id": "0fed66f7-c072-47c9-99bb-ea389a1f4edb",
   "metadata": {},
   "outputs": [],
   "source": [
    "recommendations = pd.Series(similarity,index=movies.index).sort_values(ascending=False)"
   ]
  },
  {
   "cell_type": "code",
   "execution_count": 29,
   "id": "6827ac55-59b2-4499-bf3a-4be2a9dc2952",
   "metadata": {},
   "outputs": [
    {
     "name": "stdout",
     "output_type": "stream",
     "text": [
      "Recommended Movies : Movie1    1.0\n",
      "Movie2    0.5\n",
      "Movie3    0.5\n",
      "dtype: float64\n"
     ]
    }
   ],
   "source": [
    "print(\"Recommended Movies :\",recommendations)"
   ]
  },
  {
   "cell_type": "code",
   "execution_count": null,
   "id": "5cd9d5c7-a48d-46c0-8881-cad76b16900e",
   "metadata": {},
   "outputs": [],
   "source": []
  }
 ],
 "metadata": {
  "kernelspec": {
   "display_name": "Python 3 (ipykernel)",
   "language": "python",
   "name": "python3"
  },
  "language_info": {
   "codemirror_mode": {
    "name": "ipython",
    "version": 3
   },
   "file_extension": ".py",
   "mimetype": "text/x-python",
   "name": "python",
   "nbconvert_exporter": "python",
   "pygments_lexer": "ipython3",
   "version": "3.13.1"
  }
 },
 "nbformat": 4,
 "nbformat_minor": 5
}
