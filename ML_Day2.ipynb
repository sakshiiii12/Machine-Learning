{
 "cells": [
  {
   "cell_type": "code",
   "execution_count": 1,
   "id": "272aad34-13d7-4cd7-9ad1-b6e766342d08",
   "metadata": {},
   "outputs": [],
   "source": [
    "import pandas as pd\n",
    "import numpy as np\n",
    "import matplotlib.pyplot as plt\n",
    "import seaborn as sns"
   ]
  },
  {
   "cell_type": "code",
   "execution_count": 50,
   "id": "1e21cc87-e95f-4007-947d-35f34137e1de",
   "metadata": {},
   "outputs": [],
   "source": [
    "df = pd.read_csv(\"c:/users/sakshi yadav/Downloads/final_dataset.csv\")"
   ]
  },
  {
   "cell_type": "code",
   "execution_count": 51,
   "id": "0b671aec-0b80-4a15-aafd-35dfed5a35e6",
   "metadata": {},
   "outputs": [
    {
     "data": {
      "text/html": [
       "<div>\n",
       "<style scoped>\n",
       "    .dataframe tbody tr th:only-of-type {\n",
       "        vertical-align: middle;\n",
       "    }\n",
       "\n",
       "    .dataframe tbody tr th {\n",
       "        vertical-align: top;\n",
       "    }\n",
       "\n",
       "    .dataframe thead th {\n",
       "        text-align: right;\n",
       "    }\n",
       "</style>\n",
       "<table border=\"1\" class=\"dataframe\">\n",
       "  <thead>\n",
       "    <tr style=\"text-align: right;\">\n",
       "      <th></th>\n",
       "      <th>id</th>\n",
       "      <th>Title</th>\n",
       "      <th>Movie Link</th>\n",
       "      <th>Year</th>\n",
       "      <th>Duration</th>\n",
       "      <th>MPA</th>\n",
       "      <th>Rating</th>\n",
       "      <th>Votes</th>\n",
       "      <th>budget</th>\n",
       "      <th>grossWorldWide</th>\n",
       "      <th>...</th>\n",
       "      <th>writers</th>\n",
       "      <th>stars</th>\n",
       "      <th>genres</th>\n",
       "      <th>countries_origin</th>\n",
       "      <th>filming_locations</th>\n",
       "      <th>production_companies</th>\n",
       "      <th>Languages</th>\n",
       "      <th>wins</th>\n",
       "      <th>nominations</th>\n",
       "      <th>oscars</th>\n",
       "    </tr>\n",
       "  </thead>\n",
       "  <tbody>\n",
       "    <tr>\n",
       "      <th>0</th>\n",
       "      <td>tt0073195</td>\n",
       "      <td>Jaws</td>\n",
       "      <td>https://www.imdb.com/title/tt0073195</td>\n",
       "      <td>1975</td>\n",
       "      <td>2h 4m</td>\n",
       "      <td>PG</td>\n",
       "      <td>8.1</td>\n",
       "      <td>683K</td>\n",
       "      <td>7000000.0</td>\n",
       "      <td>477220580.0</td>\n",
       "      <td>...</td>\n",
       "      <td>['Peter Benchley', 'Carl Gottlieb']</td>\n",
       "      <td>['Roy Scheider', 'Robert Shaw', 'Richard Dreyf...</td>\n",
       "      <td>['Monster Horror', 'Sea Adventure', 'Survival'...</td>\n",
       "      <td>['United States']</td>\n",
       "      <td>[\"Water Street, Edgartown, Martha's Vineyard, ...</td>\n",
       "      <td>['Zanuck/Brown Productions', 'Universal Pictur...</td>\n",
       "      <td>['English']</td>\n",
       "      <td>0</td>\n",
       "      <td>20</td>\n",
       "      <td>0</td>\n",
       "    </tr>\n",
       "    <tr>\n",
       "      <th>1</th>\n",
       "      <td>tt0073629</td>\n",
       "      <td>The Rocky Horror Picture Show</td>\n",
       "      <td>https://www.imdb.com/title/tt0073629</td>\n",
       "      <td>1975</td>\n",
       "      <td>1h 40m</td>\n",
       "      <td>R</td>\n",
       "      <td>7.4</td>\n",
       "      <td>173K</td>\n",
       "      <td>1200000.0</td>\n",
       "      <td>115798478.0</td>\n",
       "      <td>...</td>\n",
       "      <td>[\"Richard O'Brien\", 'Jim Sharman']</td>\n",
       "      <td>['Tim Curry', 'Susan Sarandon', 'Barry Bostwick']</td>\n",
       "      <td>['Dark Comedy', 'Raunchy Comedy', 'Rock Musica...</td>\n",
       "      <td>['United Kingdom', 'United States']</td>\n",
       "      <td>['Oakley Court, Windsor Road, Oakley Green, Wi...</td>\n",
       "      <td>['Twentieth Century Fox', 'Michael White Produ...</td>\n",
       "      <td>['English']</td>\n",
       "      <td>0</td>\n",
       "      <td>4</td>\n",
       "      <td>0</td>\n",
       "    </tr>\n",
       "    <tr>\n",
       "      <th>2</th>\n",
       "      <td>tt0073486</td>\n",
       "      <td>One Flew Over the Cuckoo's Nest</td>\n",
       "      <td>https://www.imdb.com/title/tt0073486</td>\n",
       "      <td>1975</td>\n",
       "      <td>2h 13m</td>\n",
       "      <td>R</td>\n",
       "      <td>8.7</td>\n",
       "      <td>1.1M</td>\n",
       "      <td>3000000.0</td>\n",
       "      <td>109115366.0</td>\n",
       "      <td>...</td>\n",
       "      <td>['Lawrence Hauben', 'Bo Goldman', 'Ken Kesey']</td>\n",
       "      <td>['Jack Nicholson', 'Louise Fletcher', 'Michael...</td>\n",
       "      <td>['Medical Drama', 'Psychological Drama', 'Drama']</td>\n",
       "      <td>['United States']</td>\n",
       "      <td>['Oregon State Mental Hospital - 2600 Center S...</td>\n",
       "      <td>['Fantasy Films', 'N.V. Zvaluw']</td>\n",
       "      <td>['English']</td>\n",
       "      <td>0</td>\n",
       "      <td>15</td>\n",
       "      <td>0</td>\n",
       "    </tr>\n",
       "    <tr>\n",
       "      <th>3</th>\n",
       "      <td>tt0072890</td>\n",
       "      <td>Dog Day Afternoon</td>\n",
       "      <td>https://www.imdb.com/title/tt0072890</td>\n",
       "      <td>1975</td>\n",
       "      <td>2h 5m</td>\n",
       "      <td>R</td>\n",
       "      <td>8.0</td>\n",
       "      <td>279K</td>\n",
       "      <td>1800000.0</td>\n",
       "      <td>50002721.0</td>\n",
       "      <td>...</td>\n",
       "      <td>['Frank Pierson', 'P.F. Kluge', 'Thomas Moore']</td>\n",
       "      <td>['Al Pacino', 'John Cazale', 'Penelope Allen']</td>\n",
       "      <td>['Heist', 'True Crime', 'Biography', 'Crime', ...</td>\n",
       "      <td>['United States']</td>\n",
       "      <td>['285 Prospect Park West, Brooklyn, New York C...</td>\n",
       "      <td>['Warner Bros.', 'Artists Entertainment Complex']</td>\n",
       "      <td>['English']</td>\n",
       "      <td>0</td>\n",
       "      <td>20</td>\n",
       "      <td>0</td>\n",
       "    </tr>\n",
       "    <tr>\n",
       "      <th>4</th>\n",
       "      <td>tt0073692</td>\n",
       "      <td>Shampoo</td>\n",
       "      <td>https://www.imdb.com/title/tt0073692</td>\n",
       "      <td>1975</td>\n",
       "      <td>1h 50m</td>\n",
       "      <td>R</td>\n",
       "      <td>6.4</td>\n",
       "      <td>15K</td>\n",
       "      <td>4000000.0</td>\n",
       "      <td>49407734.0</td>\n",
       "      <td>...</td>\n",
       "      <td>['Robert Towne', 'Warren Beatty']</td>\n",
       "      <td>['Warren Beatty', 'Julie Christie', 'Goldie Ha...</td>\n",
       "      <td>['Satire', 'Comedy', 'Drama']</td>\n",
       "      <td>['United States']</td>\n",
       "      <td>['2270 Bowmont Drive, Beverly Hills, Californi...</td>\n",
       "      <td>['Persky-Bright / Vista', 'Columbia Pictures',...</td>\n",
       "      <td>['English']</td>\n",
       "      <td>0</td>\n",
       "      <td>11</td>\n",
       "      <td>0</td>\n",
       "    </tr>\n",
       "  </tbody>\n",
       "</table>\n",
       "<p>5 rows × 23 columns</p>\n",
       "</div>"
      ],
      "text/plain": [
       "          id                            Title  \\\n",
       "0  tt0073195                             Jaws   \n",
       "1  tt0073629    The Rocky Horror Picture Show   \n",
       "2  tt0073486  One Flew Over the Cuckoo's Nest   \n",
       "3  tt0072890                Dog Day Afternoon   \n",
       "4  tt0073692                          Shampoo   \n",
       "\n",
       "                             Movie Link  Year Duration MPA  Rating Votes  \\\n",
       "0  https://www.imdb.com/title/tt0073195  1975    2h 4m  PG     8.1  683K   \n",
       "1  https://www.imdb.com/title/tt0073629  1975   1h 40m   R     7.4  173K   \n",
       "2  https://www.imdb.com/title/tt0073486  1975   2h 13m   R     8.7  1.1M   \n",
       "3  https://www.imdb.com/title/tt0072890  1975    2h 5m   R     8.0  279K   \n",
       "4  https://www.imdb.com/title/tt0073692  1975   1h 50m   R     6.4   15K   \n",
       "\n",
       "      budget  grossWorldWide  ...  \\\n",
       "0  7000000.0     477220580.0  ...   \n",
       "1  1200000.0     115798478.0  ...   \n",
       "2  3000000.0     109115366.0  ...   \n",
       "3  1800000.0      50002721.0  ...   \n",
       "4  4000000.0      49407734.0  ...   \n",
       "\n",
       "                                           writers  \\\n",
       "0              ['Peter Benchley', 'Carl Gottlieb']   \n",
       "1               [\"Richard O'Brien\", 'Jim Sharman']   \n",
       "2   ['Lawrence Hauben', 'Bo Goldman', 'Ken Kesey']   \n",
       "3  ['Frank Pierson', 'P.F. Kluge', 'Thomas Moore']   \n",
       "4                ['Robert Towne', 'Warren Beatty']   \n",
       "\n",
       "                                               stars  \\\n",
       "0  ['Roy Scheider', 'Robert Shaw', 'Richard Dreyf...   \n",
       "1  ['Tim Curry', 'Susan Sarandon', 'Barry Bostwick']   \n",
       "2  ['Jack Nicholson', 'Louise Fletcher', 'Michael...   \n",
       "3     ['Al Pacino', 'John Cazale', 'Penelope Allen']   \n",
       "4  ['Warren Beatty', 'Julie Christie', 'Goldie Ha...   \n",
       "\n",
       "                                              genres  \\\n",
       "0  ['Monster Horror', 'Sea Adventure', 'Survival'...   \n",
       "1  ['Dark Comedy', 'Raunchy Comedy', 'Rock Musica...   \n",
       "2  ['Medical Drama', 'Psychological Drama', 'Drama']   \n",
       "3  ['Heist', 'True Crime', 'Biography', 'Crime', ...   \n",
       "4                      ['Satire', 'Comedy', 'Drama']   \n",
       "\n",
       "                      countries_origin  \\\n",
       "0                    ['United States']   \n",
       "1  ['United Kingdom', 'United States']   \n",
       "2                    ['United States']   \n",
       "3                    ['United States']   \n",
       "4                    ['United States']   \n",
       "\n",
       "                                   filming_locations  \\\n",
       "0  [\"Water Street, Edgartown, Martha's Vineyard, ...   \n",
       "1  ['Oakley Court, Windsor Road, Oakley Green, Wi...   \n",
       "2  ['Oregon State Mental Hospital - 2600 Center S...   \n",
       "3  ['285 Prospect Park West, Brooklyn, New York C...   \n",
       "4  ['2270 Bowmont Drive, Beverly Hills, Californi...   \n",
       "\n",
       "                                production_companies    Languages wins  \\\n",
       "0  ['Zanuck/Brown Productions', 'Universal Pictur...  ['English']    0   \n",
       "1  ['Twentieth Century Fox', 'Michael White Produ...  ['English']    0   \n",
       "2                   ['Fantasy Films', 'N.V. Zvaluw']  ['English']    0   \n",
       "3  ['Warner Bros.', 'Artists Entertainment Complex']  ['English']    0   \n",
       "4  ['Persky-Bright / Vista', 'Columbia Pictures',...  ['English']    0   \n",
       "\n",
       "  nominations oscars  \n",
       "0          20      0  \n",
       "1           4      0  \n",
       "2          15      0  \n",
       "3          20      0  \n",
       "4          11      0  \n",
       "\n",
       "[5 rows x 23 columns]"
      ]
     },
     "execution_count": 51,
     "metadata": {},
     "output_type": "execute_result"
    }
   ],
   "source": [
    "df.head()"
   ]
  },
  {
   "cell_type": "code",
   "execution_count": 14,
   "id": "1b7c765c-3bf1-4ed5-82e2-8c0409eda045",
   "metadata": {},
   "outputs": [
    {
     "data": {
      "text/plain": [
       "(33600, 23)"
      ]
     },
     "execution_count": 14,
     "metadata": {},
     "output_type": "execute_result"
    }
   ],
   "source": [
    "df.shape"
   ]
  },
  {
   "cell_type": "code",
   "execution_count": 52,
   "id": "0f5ba944-c5d7-41ec-ae98-2718ffcc8a4c",
   "metadata": {},
   "outputs": [],
   "source": [
    "df = df.ffill()"
   ]
  },
  {
   "cell_type": "code",
   "execution_count": 53,
   "id": "0284839c-57f2-40bc-adff-1912d00fcc80",
   "metadata": {},
   "outputs": [
    {
     "data": {
      "text/plain": [
       "id                       0\n",
       "Title                    0\n",
       "Movie Link               0\n",
       "Year                     0\n",
       "Duration                 0\n",
       "MPA                      0\n",
       "Rating                   0\n",
       "Votes                    0\n",
       "budget                   0\n",
       "grossWorldWide           0\n",
       "gross_US_Canada          0\n",
       "opening_weekend_Gross    0\n",
       "directors                0\n",
       "writers                  0\n",
       "stars                    0\n",
       "genres                   0\n",
       "countries_origin         0\n",
       "filming_locations        0\n",
       "production_companies     0\n",
       "Languages                0\n",
       "wins                     0\n",
       "nominations              0\n",
       "oscars                   0\n",
       "dtype: int64"
      ]
     },
     "execution_count": 53,
     "metadata": {},
     "output_type": "execute_result"
    }
   ],
   "source": [
    "df.isnull().sum()"
   ]
  },
  {
   "cell_type": "code",
   "execution_count": 20,
   "id": "ecd10617-8502-4bed-8592-01b1d5eb31b4",
   "metadata": {},
   "outputs": [
    {
     "data": {
      "text/html": [
       "<div>\n",
       "<style scoped>\n",
       "    .dataframe tbody tr th:only-of-type {\n",
       "        vertical-align: middle;\n",
       "    }\n",
       "\n",
       "    .dataframe tbody tr th {\n",
       "        vertical-align: top;\n",
       "    }\n",
       "\n",
       "    .dataframe thead th {\n",
       "        text-align: right;\n",
       "    }\n",
       "</style>\n",
       "<table border=\"1\" class=\"dataframe\">\n",
       "  <thead>\n",
       "    <tr style=\"text-align: right;\">\n",
       "      <th></th>\n",
       "      <th>Year</th>\n",
       "      <th>Rating</th>\n",
       "      <th>budget</th>\n",
       "      <th>grossWorldWide</th>\n",
       "      <th>gross_US_Canada</th>\n",
       "      <th>opening_weekend_Gross</th>\n",
       "      <th>wins</th>\n",
       "      <th>nominations</th>\n",
       "      <th>oscars</th>\n",
       "    </tr>\n",
       "  </thead>\n",
       "  <tbody>\n",
       "    <tr>\n",
       "      <th>count</th>\n",
       "      <td>33600.000000</td>\n",
       "      <td>33600.000000</td>\n",
       "      <td>3.360000e+04</td>\n",
       "      <td>3.360000e+04</td>\n",
       "      <td>3.360000e+04</td>\n",
       "      <td>3.360000e+04</td>\n",
       "      <td>33600.0</td>\n",
       "      <td>33600.000000</td>\n",
       "      <td>33600.000000</td>\n",
       "    </tr>\n",
       "    <tr>\n",
       "      <th>mean</th>\n",
       "      <td>1992.393631</td>\n",
       "      <td>6.155057</td>\n",
       "      <td>2.128653e+08</td>\n",
       "      <td>2.582770e+07</td>\n",
       "      <td>1.271712e+07</td>\n",
       "      <td>2.963380e+06</td>\n",
       "      <td>0.0</td>\n",
       "      <td>4.850357</td>\n",
       "      <td>0.102619</td>\n",
       "    </tr>\n",
       "    <tr>\n",
       "      <th>std</th>\n",
       "      <td>18.957395</td>\n",
       "      <td>1.145707</td>\n",
       "      <td>6.796476e+09</td>\n",
       "      <td>1.153385e+08</td>\n",
       "      <td>4.614141e+07</td>\n",
       "      <td>1.410353e+07</td>\n",
       "      <td>0.0</td>\n",
       "      <td>17.719188</td>\n",
       "      <td>0.508687</td>\n",
       "    </tr>\n",
       "    <tr>\n",
       "      <th>min</th>\n",
       "      <td>1960.000000</td>\n",
       "      <td>1.100000</td>\n",
       "      <td>1.000000e+00</td>\n",
       "      <td>1.000000e+00</td>\n",
       "      <td>6.400000e+01</td>\n",
       "      <td>1.100000e+01</td>\n",
       "      <td>0.0</td>\n",
       "      <td>0.000000</td>\n",
       "      <td>0.000000</td>\n",
       "    </tr>\n",
       "    <tr>\n",
       "      <th>25%</th>\n",
       "      <td>1976.000000</td>\n",
       "      <td>5.500000</td>\n",
       "      <td>6.000000e+05</td>\n",
       "      <td>6.550000e+03</td>\n",
       "      <td>7.834000e+04</td>\n",
       "      <td>5.241750e+03</td>\n",
       "      <td>0.0</td>\n",
       "      <td>0.000000</td>\n",
       "      <td>0.000000</td>\n",
       "    </tr>\n",
       "    <tr>\n",
       "      <th>50%</th>\n",
       "      <td>1993.000000</td>\n",
       "      <td>6.300000</td>\n",
       "      <td>3.000000e+06</td>\n",
       "      <td>2.925765e+05</td>\n",
       "      <td>6.664420e+05</td>\n",
       "      <td>1.162300e+04</td>\n",
       "      <td>0.0</td>\n",
       "      <td>0.000000</td>\n",
       "      <td>0.000000</td>\n",
       "    </tr>\n",
       "    <tr>\n",
       "      <th>75%</th>\n",
       "      <td>2009.000000</td>\n",
       "      <td>7.000000</td>\n",
       "      <td>1.300000e+07</td>\n",
       "      <td>7.196268e+06</td>\n",
       "      <td>7.000546e+06</td>\n",
       "      <td>2.200432e+05</td>\n",
       "      <td>0.0</td>\n",
       "      <td>3.000000</td>\n",
       "      <td>0.000000</td>\n",
       "    </tr>\n",
       "    <tr>\n",
       "      <th>max</th>\n",
       "      <td>2024.000000</td>\n",
       "      <td>9.600000</td>\n",
       "      <td>3.000000e+11</td>\n",
       "      <td>2.923706e+09</td>\n",
       "      <td>9.366622e+08</td>\n",
       "      <td>3.571150e+08</td>\n",
       "      <td>0.0</td>\n",
       "      <td>433.000000</td>\n",
       "      <td>11.000000</td>\n",
       "    </tr>\n",
       "  </tbody>\n",
       "</table>\n",
       "</div>"
      ],
      "text/plain": [
       "               Year        Rating        budget  grossWorldWide  \\\n",
       "count  33600.000000  33600.000000  3.360000e+04    3.360000e+04   \n",
       "mean    1992.393631      6.155057  2.128653e+08    2.582770e+07   \n",
       "std       18.957395      1.145707  6.796476e+09    1.153385e+08   \n",
       "min     1960.000000      1.100000  1.000000e+00    1.000000e+00   \n",
       "25%     1976.000000      5.500000  6.000000e+05    6.550000e+03   \n",
       "50%     1993.000000      6.300000  3.000000e+06    2.925765e+05   \n",
       "75%     2009.000000      7.000000  1.300000e+07    7.196268e+06   \n",
       "max     2024.000000      9.600000  3.000000e+11    2.923706e+09   \n",
       "\n",
       "       gross_US_Canada  opening_weekend_Gross     wins   nominations  \\\n",
       "count     3.360000e+04           3.360000e+04  33600.0  33600.000000   \n",
       "mean      1.271712e+07           2.963380e+06      0.0      4.850357   \n",
       "std       4.614141e+07           1.410353e+07      0.0     17.719188   \n",
       "min       6.400000e+01           1.100000e+01      0.0      0.000000   \n",
       "25%       7.834000e+04           5.241750e+03      0.0      0.000000   \n",
       "50%       6.664420e+05           1.162300e+04      0.0      0.000000   \n",
       "75%       7.000546e+06           2.200432e+05      0.0      3.000000   \n",
       "max       9.366622e+08           3.571150e+08      0.0    433.000000   \n",
       "\n",
       "             oscars  \n",
       "count  33600.000000  \n",
       "mean       0.102619  \n",
       "std        0.508687  \n",
       "min        0.000000  \n",
       "25%        0.000000  \n",
       "50%        0.000000  \n",
       "75%        0.000000  \n",
       "max       11.000000  "
      ]
     },
     "execution_count": 20,
     "metadata": {},
     "output_type": "execute_result"
    }
   ],
   "source": [
    "df.describe()"
   ]
  },
  {
   "cell_type": "code",
   "execution_count": 22,
   "id": "877ec44d-e7ca-4eb9-88c3-64e034bdcd70",
   "metadata": {},
   "outputs": [
    {
     "data": {
      "image/png": "[encoded data removed]",
      "text/plain": [
       "<Figure size 640x480 with 1 Axes>"
      ]
     },
     "metadata": {},
     "output_type": "display_data"
    }
   ],
   "source": [
    "sns.boxplot(df['Rating'])\n",
    "plt.show()"
   ]
  },
  {
   "cell_type": "code",
   "execution_count": 23,
   "id": "310ac826-4700-4d22-98db-bf5ad4417601",
   "metadata": {},
   "outputs": [
    {
     "data": {
      "image/png": "[encoded data removed]",
      "text/plain": [
       "<Figure size 640x480 with 1 Axes>"
      ]
     },
     "metadata": {},
     "output_type": "display_data"
    }
   ],
   "source": [
    "sns.boxplot(df['Year'])\n",
    "plt.show()"
   ]
  },
  {
   "cell_type": "code",
   "execution_count": 24,
   "id": "9d71b200-02dc-4814-b5c3-a51a08eb0c6e",
   "metadata": {},
   "outputs": [
    {
     "data": {
      "image/png": "[encoded data removed]",
      "text/plain": [
       "<Figure size 640x480 with 1 Axes>"
      ]
     },
     "metadata": {},
     "output_type": "display_data"
    }
   ],
   "source": [
    "sns.boxplot(df['budget'])\n",
    "plt.show()"
   ]
  },
  {
   "cell_type": "code",
   "execution_count": 25,
   "id": "d1cbbd92-f149-466a-8158-bece0d60dc95",
   "metadata": {},
   "outputs": [
    {
     "name": "stderr",
     "output_type": "stream",
     "text": [
      "C:\\Users\\Sakshi Yadav\\AppData\\Local\\Temp\\ipykernel_32104\\840269248.py:1: UserWarning: \n",
      "\n",
      "`distplot` is a deprecated function and will be removed in seaborn v0.14.0.\n",
      "\n",
      "Please adapt your code to use either `displot` (a figure-level function with\n",
      "similar flexibility) or `histplot` (an axes-level function for histograms).\n",
      "\n",
      "For a guide to updating your code to use the new functions, please see\n",
      "https://gist.github.com/mwaskom/de44147ed2974457ad6372750bbe5751\n",
      "\n",
      "  sns.distplot(df['budget'])\n"
     ]
    },
    {
     "data": {
      "image/png": "[encoded data removed]",
      "text/plain": [
       "<Figure size 640x480 with 1 Axes>"
      ]
     },
     "metadata": {},
     "output_type": "display_data"
    }
   ],
   "source": [
    "sns.distplot(df['budget'])\n",
    "plt.show()"
   ]
  },
  {
   "cell_type": "code",
   "execution_count": 26,
   "id": "1df9d3b5-18cf-4287-b0a0-71417dc5eede",
   "metadata": {},
   "outputs": [],
   "source": [
    "# To remove outlier we use different methods:\n",
    "#1. IOR\n",
    "#2. Z_score"
   ]
  },
  {
   "cell_type": "code",
   "execution_count": 28,
   "id": "7058a6ad-4715-46b1-84eb-f650500297df",
   "metadata": {},
   "outputs": [
    {
     "data": {
      "text/plain": [
       "'\\nIOR\\nQ1 - 25%\\nQ3 - 75%\\nQ2/IOR -> (Q3-Q1) - IOR\\n------------------------\\nminimum -> Q1 - IOR * 1.5\\nmaximum -> Q3 + IOR * 1.5\\n'"
      ]
     },
     "execution_count": 28,
     "metadata": {},
     "output_type": "execute_result"
    }
   ],
   "source": [
    "\"\"\"\n",
    "IOR\n",
    "Q1 - 25%\n",
    "Q3 - 75%\n",
    "Q2/IOR -> (Q3-Q1) - IOR\n",
    "------------------------\n",
    "minimum -> Q1 - IOR * 1.5\n",
    "maximum -> Q3 + IOR * 1.5\n",
    "\"\"\""
   ]
  },
  {
   "cell_type": "code",
   "execution_count": 29,
   "id": "4b4d3f6e-f9b4-4b3f-a60c-19d0b085875f",
   "metadata": {},
   "outputs": [
    {
     "data": {
      "text/plain": [
       "(33600, 23)"
      ]
     },
     "execution_count": 29,
     "metadata": {},
     "output_type": "execute_result"
    }
   ],
   "source": [
    "df.shape"
   ]
  },
  {
   "cell_type": "code",
   "execution_count": 37,
   "id": "4bd55765-2b8f-47be-982f-b331dc416a12",
   "metadata": {},
   "outputs": [
    {
     "name": "stdout",
     "output_type": "stream",
     "text": [
      "Q1: 600000.0 \t Q3: 13000000.0 \t IOR: 12400000.0\n"
     ]
    }
   ],
   "source": [
    "# IOR \n",
    "Q1 = df.budget.quantile(0.25)\n",
    "Q3 = df.budget.quantile(0.75)\n",
    "IQR = Q3 - Q1\n",
    "print(\"Q1:\",Q1,\"\\t\",\"Q3:\",Q3,\"\\t\",\"IOR:\",IQR )"
   ]
  },
  {
   "cell_type": "code",
   "execution_count": 39,
   "id": "708cbcec-fdd1-499c-8a6b-9d1123d124ad",
   "metadata": {},
   "outputs": [
    {
     "name": "stdout",
     "output_type": "stream",
     "text": [
      "Minumum: -18000000.0 \t Maximum: 31600000.0\n"
     ]
    }
   ],
   "source": [
    "minimum = Q1 - IQR * 1.5\n",
    "maximum = Q3 + IQR * 1.5\n",
    "print(\"Minumum:\",minimum,\"\\t\",\"Maximum:\",maximum)"
   ]
  },
  {
   "cell_type": "code",
   "execution_count": 40,
   "id": "6e323800-ad44-4978-a063-517bb2213470",
   "metadata": {},
   "outputs": [],
   "source": [
    "df = df[df.budget<=maximum]"
   ]
  },
  {
   "cell_type": "code",
   "execution_count": 41,
   "id": "8239067a-2685-46cf-be2a-5e8569b2b64a",
   "metadata": {},
   "outputs": [
    {
     "data": {
      "text/plain": [
       "(29377, 23)"
      ]
     },
     "execution_count": 41,
     "metadata": {},
     "output_type": "execute_result"
    }
   ],
   "source": [
    "df.shape"
   ]
  },
  {
   "cell_type": "code",
   "execution_count": 43,
   "id": "28403ea3-ac4f-4bb8-8dd0-aef8227ce14a",
   "metadata": {},
   "outputs": [
    {
     "name": "stdout",
     "output_type": "stream",
     "text": [
      "The number of data we lost: 12.56845238095238\n"
     ]
    }
   ],
   "source": [
    "print(\"The number of data we lost:\",(33600-29377)/33600*100)"
   ]
  },
  {
   "cell_type": "code",
   "execution_count": 44,
   "id": "8ad7a563-0da4-4f4c-a4b3-325fb55a37b2",
   "metadata": {},
   "outputs": [
    {
     "data": {
      "image/png": "[encoded data removed]",
      "text/plain": [
       "<Figure size 640x480 with 1 Axes>"
      ]
     },
     "metadata": {},
     "output_type": "display_data"
    }
   ],
   "source": [
    "sns.boxplot(df['budget'])\n",
    "plt.show()"
   ]
  },
  {
   "cell_type": "code",
   "execution_count": 45,
   "id": "7028b671-46f7-428e-806d-4291404976eb",
   "metadata": {},
   "outputs": [
    {
     "name": "stderr",
     "output_type": "stream",
     "text": [
      "C:\\Users\\Sakshi Yadav\\AppData\\Local\\Temp\\ipykernel_32104\\840269248.py:1: UserWarning: \n",
      "\n",
      "`distplot` is a deprecated function and will be removed in seaborn v0.14.0.\n",
      "\n",
      "Please adapt your code to use either `displot` (a figure-level function with\n",
      "similar flexibility) or `histplot` (an axes-level function for histograms).\n",
      "\n",
      "For a guide to updating your code to use the new functions, please see\n",
      "https://gist.github.com/mwaskom/de44147ed2974457ad6372750bbe5751\n",
      "\n",
      "  sns.distplot(df['budget'])\n"
     ]
    },
    {
     "data": {
      "image/png": "[encoded data removed]",
      "text/plain": [
       "<Figure size 640x480 with 1 Axes>"
      ]
     },
     "metadata": {},
     "output_type": "display_data"
    }
   ],
   "source": [
    "sns.distplot(df['budget'])\n",
    "plt.show()"
   ]
  },
  {
   "cell_type": "code",
   "execution_count": 46,
   "id": "66559e7f-2bf1-4a36-8693-513f78ef9870",
   "metadata": {},
   "outputs": [
    {
     "data": {
      "text/plain": [
       "'\\nZ_Score\\nZ_Score Formula = (x - minu) / sigma \\nx = data\\nminu = mean of the data\\nsigma = standard deviation \\n'"
      ]
     },
     "execution_count": 46,
     "metadata": {},
     "output_type": "execute_result"
    }
   ],
   "source": [
    "\"\"\"\n",
    "Z_Score\n",
    "Z_Score Formula = (x - miu) / sigma \n",
    "x = data\n",
    "miu = mean of the data\n",
    "sigma = standard deviation \n",
    "\"\"\""
   ]
  },
  {
   "cell_type": "code",
   "execution_count": 54,
   "id": "67d681ca-02f3-49c1-a266-3329731a3b0c",
   "metadata": {},
   "outputs": [],
   "source": [
    "df['z_score'] = (df['budget'] - df['budget'].mean())/df['budget'].std()"
   ]
  },
  {
   "cell_type": "code",
   "execution_count": 55,
   "id": "9162be52-270e-4c55-9711-38bac2617fbb",
   "metadata": {},
   "outputs": [
    {
     "data": {
      "text/html": [
       "<div>\n",
       "<style scoped>\n",
       "    .dataframe tbody tr th:only-of-type {\n",
       "        vertical-align: middle;\n",
       "    }\n",
       "\n",
       "    .dataframe tbody tr th {\n",
       "        vertical-align: top;\n",
       "    }\n",
       "\n",
       "    .dataframe thead th {\n",
       "        text-align: right;\n",
       "    }\n",
       "</style>\n",
       "<table border=\"1\" class=\"dataframe\">\n",
       "  <thead>\n",
       "    <tr style=\"text-align: right;\">\n",
       "      <th></th>\n",
       "      <th>id</th>\n",
       "      <th>Title</th>\n",
       "      <th>Movie Link</th>\n",
       "      <th>Year</th>\n",
       "      <th>Duration</th>\n",
       "      <th>MPA</th>\n",
       "      <th>Rating</th>\n",
       "      <th>Votes</th>\n",
       "      <th>budget</th>\n",
       "      <th>grossWorldWide</th>\n",
       "      <th>...</th>\n",
       "      <th>stars</th>\n",
       "      <th>genres</th>\n",
       "      <th>countries_origin</th>\n",
       "      <th>filming_locations</th>\n",
       "      <th>production_companies</th>\n",
       "      <th>Languages</th>\n",
       "      <th>wins</th>\n",
       "      <th>nominations</th>\n",
       "      <th>oscars</th>\n",
       "      <th>z_score</th>\n",
       "    </tr>\n",
       "  </thead>\n",
       "  <tbody>\n",
       "    <tr>\n",
       "      <th>0</th>\n",
       "      <td>tt0073195</td>\n",
       "      <td>Jaws</td>\n",
       "      <td>https://www.imdb.com/title/tt0073195</td>\n",
       "      <td>1975</td>\n",
       "      <td>2h 4m</td>\n",
       "      <td>PG</td>\n",
       "      <td>8.1</td>\n",
       "      <td>683K</td>\n",
       "      <td>7000000.0</td>\n",
       "      <td>477220580.0</td>\n",
       "      <td>...</td>\n",
       "      <td>['Roy Scheider', 'Robert Shaw', 'Richard Dreyf...</td>\n",
       "      <td>['Monster Horror', 'Sea Adventure', 'Survival'...</td>\n",
       "      <td>['United States']</td>\n",
       "      <td>[\"Water Street, Edgartown, Martha's Vineyard, ...</td>\n",
       "      <td>['Zanuck/Brown Productions', 'Universal Pictur...</td>\n",
       "      <td>['English']</td>\n",
       "      <td>0</td>\n",
       "      <td>20</td>\n",
       "      <td>0</td>\n",
       "      <td>-0.030290</td>\n",
       "    </tr>\n",
       "    <tr>\n",
       "      <th>1</th>\n",
       "      <td>tt0073629</td>\n",
       "      <td>The Rocky Horror Picture Show</td>\n",
       "      <td>https://www.imdb.com/title/tt0073629</td>\n",
       "      <td>1975</td>\n",
       "      <td>1h 40m</td>\n",
       "      <td>R</td>\n",
       "      <td>7.4</td>\n",
       "      <td>173K</td>\n",
       "      <td>1200000.0</td>\n",
       "      <td>115798478.0</td>\n",
       "      <td>...</td>\n",
       "      <td>['Tim Curry', 'Susan Sarandon', 'Barry Bostwick']</td>\n",
       "      <td>['Dark Comedy', 'Raunchy Comedy', 'Rock Musica...</td>\n",
       "      <td>['United Kingdom', 'United States']</td>\n",
       "      <td>['Oakley Court, Windsor Road, Oakley Green, Wi...</td>\n",
       "      <td>['Twentieth Century Fox', 'Michael White Produ...</td>\n",
       "      <td>['English']</td>\n",
       "      <td>0</td>\n",
       "      <td>4</td>\n",
       "      <td>0</td>\n",
       "      <td>-0.031143</td>\n",
       "    </tr>\n",
       "  </tbody>\n",
       "</table>\n",
       "<p>2 rows × 24 columns</p>\n",
       "</div>"
      ],
      "text/plain": [
       "          id                          Title  \\\n",
       "0  tt0073195                           Jaws   \n",
       "1  tt0073629  The Rocky Horror Picture Show   \n",
       "\n",
       "                             Movie Link  Year Duration MPA  Rating Votes  \\\n",
       "0  https://www.imdb.com/title/tt0073195  1975    2h 4m  PG     8.1  683K   \n",
       "1  https://www.imdb.com/title/tt0073629  1975   1h 40m   R     7.4  173K   \n",
       "\n",
       "      budget  grossWorldWide  ...  \\\n",
       "0  7000000.0     477220580.0  ...   \n",
       "1  1200000.0     115798478.0  ...   \n",
       "\n",
       "                                               stars  \\\n",
       "0  ['Roy Scheider', 'Robert Shaw', 'Richard Dreyf...   \n",
       "1  ['Tim Curry', 'Susan Sarandon', 'Barry Bostwick']   \n",
       "\n",
       "                                              genres  \\\n",
       "0  ['Monster Horror', 'Sea Adventure', 'Survival'...   \n",
       "1  ['Dark Comedy', 'Raunchy Comedy', 'Rock Musica...   \n",
       "\n",
       "                      countries_origin  \\\n",
       "0                    ['United States']   \n",
       "1  ['United Kingdom', 'United States']   \n",
       "\n",
       "                                   filming_locations  \\\n",
       "0  [\"Water Street, Edgartown, Martha's Vineyard, ...   \n",
       "1  ['Oakley Court, Windsor Road, Oakley Green, Wi...   \n",
       "\n",
       "                                production_companies    Languages wins  \\\n",
       "0  ['Zanuck/Brown Productions', 'Universal Pictur...  ['English']    0   \n",
       "1  ['Twentieth Century Fox', 'Michael White Produ...  ['English']    0   \n",
       "\n",
       "  nominations oscars   z_score  \n",
       "0          20      0 -0.030290  \n",
       "1           4      0 -0.031143  \n",
       "\n",
       "[2 rows x 24 columns]"
      ]
     },
     "execution_count": 55,
     "metadata": {},
     "output_type": "execute_result"
    }
   ],
   "source": [
    "df.head(2)"
   ]
  },
  {
   "cell_type": "code",
   "execution_count": 56,
   "id": "9a9ba7a8-4eca-4b16-b9c3-d7019dea60c0",
   "metadata": {},
   "outputs": [
    {
     "data": {
      "text/plain": [
       "(33600, 24)"
      ]
     },
     "execution_count": 56,
     "metadata": {},
     "output_type": "execute_result"
    }
   ],
   "source": [
    "df.shape"
   ]
  },
  {
   "cell_type": "code",
   "execution_count": 57,
   "id": "caa46b1e-c6e7-4255-a015-b757673571c0",
   "metadata": {},
   "outputs": [],
   "source": [
    "df = df[df['z_score']<(-0.01)]"
   ]
  },
  {
   "cell_type": "code",
   "execution_count": 58,
   "id": "be3c9ba7-a27b-4573-be58-341fe7033af1",
   "metadata": {},
   "outputs": [
    {
     "data": {
      "text/plain": [
       "(32491, 24)"
      ]
     },
     "execution_count": 58,
     "metadata": {},
     "output_type": "execute_result"
    }
   ],
   "source": [
    "df.shape"
   ]
  },
  {
   "cell_type": "code",
   "execution_count": 61,
   "id": "7b8b4394-7045-401f-aec2-b2fff1945fee",
   "metadata": {},
   "outputs": [
    {
     "name": "stdout",
     "output_type": "stream",
     "text": [
      "The no. of data we lost: 3.300595238095238\n"
     ]
    }
   ],
   "source": [
    "print(\"The no. of data we lost:\", (33600-df.shape[0])/336)"
   ]
  },
  {
   "cell_type": "code",
   "execution_count": 62,
   "id": "4b36c425-0aa9-4bf9-bc62-df10881ea068",
   "metadata": {},
   "outputs": [
    {
     "data": {
      "image/png": "[encoded data removed]",
      "text/plain": [
       "<Figure size 640x480 with 1 Axes>"
      ]
     },
     "metadata": {},
     "output_type": "display_data"
    }
   ],
   "source": [
    "sns.boxplot(df['budget'])\n",
    "plt.show()"
   ]
  }
 ],
 "metadata": {
  "kernelspec": {
   "display_name": "Python 3 (ipykernel)",
   "language": "python",
   "name": "python3"
  },
  "language_info": {
   "codemirror_mode": {
    "name": "ipython",
    "version": 3
   },
   "file_extension": ".py",
   "mimetype": "text/x-python",
   "name": "python",
   "nbconvert_exporter": "python",
   "pygments_lexer": "ipython3",
   "version": "3.13.1"
  }
 },
 "nbformat": 4,
 "nbformat_minor": 5
}
