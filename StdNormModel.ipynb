{
 "cells": [
  {
   "cell_type": "code",
   "execution_count": 1,
   "id": "02415b31-0da1-4250-9506-c49ae369de5d",
   "metadata": {},
   "outputs": [],
   "source": [
    "#Importing The important libraries\n",
    "import pandas as pd\n",
    "from sklearn.model_selection import train_test_split\n",
    "from sklearn.preprocessing import StandardScaler, MinMaxScaler, LabelEncoder\n",
    "from sklearn.linear_model import LogisticRegression\n",
    "from sklearn.tree import DecisionTreeClassifier\n",
    "from sklearn.ensemble import RandomForestClassifier, GradientBoostingClassifier\n",
    "from xgboost import XGBClassifier\n",
    "from lightgbm import LGBMClassifier\n",
    "from sklearn.svm import SVC\n",
    "from sklearn.neighbors import KNeighborsClassifier\n",
    "from sklearn.naive_bayes import GaussianNB\n",
    "from sklearn.neural_network import MLPClassifier\n",
    "from sklearn.metrics import accuracy_score"
   ]
  },
  {
   "cell_type": "code",
   "execution_count": 2,
   "id": "0e45559c-29bf-4d20-8c78-bf114a6163d0",
   "metadata": {},
   "outputs": [],
   "source": [
    "import warnings\n",
    "warnings.filterwarnings(\"ignore\")"
   ]
  },
  {
   "cell_type": "code",
   "execution_count": 3,
   "id": "a1d6161f-510f-463c-997b-c3c9ecfc39a1",
   "metadata": {},
   "outputs": [],
   "source": [
    "#Importing the Hypertension Dataset\n",
    "df = pd.read_csv(\"c:/users/sakshi yadav/Downloads/hypertension_dataset.csv\")"
   ]
  },
  {
   "cell_type": "code",
   "execution_count": 4,
   "id": "46f8cf0c-fb7a-4fcc-8a5b-374a3690f5a4",
   "metadata": {},
   "outputs": [
    {
     "data": {
      "text/plain": [
       "(1985, 11)"
      ]
     },
     "execution_count": 4,
     "metadata": {},
     "output_type": "execute_result"
    }
   ],
   "source": [
    "#Shape of the dataset\n",
    "df.shape"
   ]
  },
  {
   "cell_type": "code",
   "execution_count": 5,
   "id": "22594f1b-bc26-46c8-858c-72b24c73d3db",
   "metadata": {},
   "outputs": [
    {
     "data": {
      "text/html": [
       "<div>\n",
       "<style scoped>\n",
       "    .dataframe tbody tr th:only-of-type {\n",
       "        vertical-align: middle;\n",
       "    }\n",
       "\n",
       "    .dataframe tbody tr th {\n",
       "        vertical-align: top;\n",
       "    }\n",
       "\n",
       "    .dataframe thead th {\n",
       "        text-align: right;\n",
       "    }\n",
       "</style>\n",
       "<table border=\"1\" class=\"dataframe\">\n",
       "  <thead>\n",
       "    <tr style=\"text-align: right;\">\n",
       "      <th></th>\n",
       "      <th>Age</th>\n",
       "      <th>Salt_Intake</th>\n",
       "      <th>Stress_Score</th>\n",
       "      <th>BP_History</th>\n",
       "      <th>Sleep_Duration</th>\n",
       "      <th>BMI</th>\n",
       "      <th>Medication</th>\n",
       "      <th>Family_History</th>\n",
       "      <th>Exercise_Level</th>\n",
       "      <th>Smoking_Status</th>\n",
       "      <th>Has_Hypertension</th>\n",
       "    </tr>\n",
       "  </thead>\n",
       "  <tbody>\n",
       "    <tr>\n",
       "      <th>0</th>\n",
       "      <td>69</td>\n",
       "      <td>8.0</td>\n",
       "      <td>9</td>\n",
       "      <td>Normal</td>\n",
       "      <td>6.4</td>\n",
       "      <td>25.8</td>\n",
       "      <td>NaN</td>\n",
       "      <td>Yes</td>\n",
       "      <td>Low</td>\n",
       "      <td>Non-Smoker</td>\n",
       "      <td>Yes</td>\n",
       "    </tr>\n",
       "    <tr>\n",
       "      <th>1</th>\n",
       "      <td>32</td>\n",
       "      <td>11.7</td>\n",
       "      <td>10</td>\n",
       "      <td>Normal</td>\n",
       "      <td>5.4</td>\n",
       "      <td>23.4</td>\n",
       "      <td>NaN</td>\n",
       "      <td>No</td>\n",
       "      <td>Low</td>\n",
       "      <td>Non-Smoker</td>\n",
       "      <td>No</td>\n",
       "    </tr>\n",
       "    <tr>\n",
       "      <th>2</th>\n",
       "      <td>78</td>\n",
       "      <td>9.5</td>\n",
       "      <td>3</td>\n",
       "      <td>Normal</td>\n",
       "      <td>7.1</td>\n",
       "      <td>18.7</td>\n",
       "      <td>NaN</td>\n",
       "      <td>No</td>\n",
       "      <td>Moderate</td>\n",
       "      <td>Non-Smoker</td>\n",
       "      <td>No</td>\n",
       "    </tr>\n",
       "    <tr>\n",
       "      <th>3</th>\n",
       "      <td>38</td>\n",
       "      <td>10.0</td>\n",
       "      <td>10</td>\n",
       "      <td>Hypertension</td>\n",
       "      <td>4.2</td>\n",
       "      <td>22.1</td>\n",
       "      <td>ACE Inhibitor</td>\n",
       "      <td>No</td>\n",
       "      <td>Low</td>\n",
       "      <td>Non-Smoker</td>\n",
       "      <td>Yes</td>\n",
       "    </tr>\n",
       "    <tr>\n",
       "      <th>4</th>\n",
       "      <td>41</td>\n",
       "      <td>9.8</td>\n",
       "      <td>1</td>\n",
       "      <td>Prehypertension</td>\n",
       "      <td>5.8</td>\n",
       "      <td>16.2</td>\n",
       "      <td>Other</td>\n",
       "      <td>No</td>\n",
       "      <td>Moderate</td>\n",
       "      <td>Non-Smoker</td>\n",
       "      <td>No</td>\n",
       "    </tr>\n",
       "  </tbody>\n",
       "</table>\n",
       "</div>"
      ],
      "text/plain": [
       "   Age  Salt_Intake  Stress_Score       BP_History  Sleep_Duration   BMI  \\\n",
       "0   69          8.0             9           Normal             6.4  25.8   \n",
       "1   32         11.7            10           Normal             5.4  23.4   \n",
       "2   78          9.5             3           Normal             7.1  18.7   \n",
       "3   38         10.0            10     Hypertension             4.2  22.1   \n",
       "4   41          9.8             1  Prehypertension             5.8  16.2   \n",
       "\n",
       "      Medication Family_History Exercise_Level Smoking_Status Has_Hypertension  \n",
       "0            NaN            Yes            Low     Non-Smoker              Yes  \n",
       "1            NaN             No            Low     Non-Smoker               No  \n",
       "2            NaN             No       Moderate     Non-Smoker               No  \n",
       "3  ACE Inhibitor             No            Low     Non-Smoker              Yes  \n",
       "4          Other             No       Moderate     Non-Smoker               No  "
      ]
     },
     "execution_count": 5,
     "metadata": {},
     "output_type": "execute_result"
    }
   ],
   "source": [
    "#Print the dataset\n",
    "df.head()"
   ]
  },
  {
   "cell_type": "code",
   "execution_count": 6,
   "id": "57617e79-534f-4cbd-afee-ae9d5509f4fb",
   "metadata": {},
   "outputs": [
    {
     "data": {
      "text/plain": [
       "Age                   0\n",
       "Salt_Intake           0\n",
       "Stress_Score          0\n",
       "BP_History            0\n",
       "Sleep_Duration        0\n",
       "BMI                   0\n",
       "Medication          799\n",
       "Family_History        0\n",
       "Exercise_Level        0\n",
       "Smoking_Status        0\n",
       "Has_Hypertension      0\n",
       "dtype: int64"
      ]
     },
     "execution_count": 6,
     "metadata": {},
     "output_type": "execute_result"
    }
   ],
   "source": [
    "#Checking the null values of the dataset\n",
    "df.isnull().sum()"
   ]
  },
  {
   "cell_type": "code",
   "execution_count": 7,
   "id": "b58bb5a0-88db-4cbd-a5d5-617499364bd1",
   "metadata": {},
   "outputs": [
    {
     "name": "stdout",
     "output_type": "stream",
     "text": [
      "<class 'pandas.core.frame.DataFrame'>\n",
      "RangeIndex: 1985 entries, 0 to 1984\n",
      "Data columns (total 11 columns):\n",
      " #   Column            Non-Null Count  Dtype  \n",
      "---  ------            --------------  -----  \n",
      " 0   Age               1985 non-null   int64  \n",
      " 1   Salt_Intake       1985 non-null   float64\n",
      " 2   Stress_Score      1985 non-null   int64  \n",
      " 3   BP_History        1985 non-null   object \n",
      " 4   Sleep_Duration    1985 non-null   float64\n",
      " 5   BMI               1985 non-null   float64\n",
      " 6   Medication        1186 non-null   object \n",
      " 7   Family_History    1985 non-null   object \n",
      " 8   Exercise_Level    1985 non-null   object \n",
      " 9   Smoking_Status    1985 non-null   object \n",
      " 10  Has_Hypertension  1985 non-null   object \n",
      "dtypes: float64(3), int64(2), object(6)\n",
      "memory usage: 170.7+ KB\n"
     ]
    }
   ],
   "source": [
    "#Checking the dtypes of the dataset\n",
    "df.info()"
   ]
  },
  {
   "cell_type": "code",
   "execution_count": 8,
   "id": "c906ce54-b7a2-4b1f-8115-b2580e92cc23",
   "metadata": {},
   "outputs": [
    {
     "data": {
      "text/plain": [
       "Index(['Age', 'Salt_Intake', 'Stress_Score', 'BP_History', 'Sleep_Duration',\n",
       "       'BMI', 'Medication', 'Family_History', 'Exercise_Level',\n",
       "       'Smoking_Status', 'Has_Hypertension'],\n",
       "      dtype='object')"
      ]
     },
     "execution_count": 8,
     "metadata": {},
     "output_type": "execute_result"
    }
   ],
   "source": [
    "#Columns of this dataset\n",
    "df.columns"
   ]
  },
  {
   "cell_type": "code",
   "execution_count": 9,
   "id": "ee18d189-c4d2-4b9d-8a4d-ad35bf647a75",
   "metadata": {},
   "outputs": [
    {
     "data": {
      "text/plain": [
       "array([nan, 'ACE Inhibitor', 'Other', 'Beta Blocker', 'Diuretic'],\n",
       "      dtype=object)"
      ]
     },
     "execution_count": 9,
     "metadata": {},
     "output_type": "execute_result"
    }
   ],
   "source": [
    "#Printing the unique value of this columns\n",
    "df.Medication.unique()"
   ]
  },
  {
   "cell_type": "code",
   "execution_count": 10,
   "id": "ee330fd7-e84e-4fff-b8a3-16f3564cbc75",
   "metadata": {},
   "outputs": [],
   "source": [
    "#Filling the mode for this medication columns to fill the nan value\n",
    "mode = df['Medication'].mode()[0]"
   ]
  },
  {
   "cell_type": "code",
   "execution_count": 11,
   "id": "1490bd6f-ba3a-463a-a26a-35502fc4a204",
   "metadata": {},
   "outputs": [],
   "source": [
    "df['Medication'].fillna(value=mode, inplace=True)"
   ]
  },
  {
   "cell_type": "code",
   "execution_count": 12,
   "id": "38795c0e-c605-4dce-9d0d-d8110f9d5b86",
   "metadata": {},
   "outputs": [
    {
     "data": {
      "text/plain": [
       "Age                 0\n",
       "Salt_Intake         0\n",
       "Stress_Score        0\n",
       "BP_History          0\n",
       "Sleep_Duration      0\n",
       "BMI                 0\n",
       "Medication          0\n",
       "Family_History      0\n",
       "Exercise_Level      0\n",
       "Smoking_Status      0\n",
       "Has_Hypertension    0\n",
       "dtype: int64"
      ]
     },
     "execution_count": 12,
     "metadata": {},
     "output_type": "execute_result"
    }
   ],
   "source": [
    "df.isnull().sum()"
   ]
  },
  {
   "cell_type": "code",
   "execution_count": 13,
   "id": "0f234b48-4735-49e4-bf94-38ae88e06e9c",
   "metadata": {},
   "outputs": [
    {
     "data": {
      "text/plain": [
       "np.int64(0)"
      ]
     },
     "execution_count": 13,
     "metadata": {},
     "output_type": "execute_result"
    }
   ],
   "source": [
    "#Checking the Duplicates\n",
    "df.duplicated().sum()"
   ]
  },
  {
   "cell_type": "code",
   "execution_count": 14,
   "id": "3c9b48ae-cd10-4dd3-bfc6-7413dd65eeb4",
   "metadata": {},
   "outputs": [
    {
     "data": {
      "text/plain": [
       "(1985, 11)"
      ]
     },
     "execution_count": 14,
     "metadata": {},
     "output_type": "execute_result"
    }
   ],
   "source": [
    "df.shape"
   ]
  },
  {
   "cell_type": "code",
   "execution_count": 15,
   "id": "db9ec9c1-8289-4bf8-97c8-cef936b3927c",
   "metadata": {},
   "outputs": [
    {
     "data": {
      "text/html": [
       "<div>\n",
       "<style scoped>\n",
       "    .dataframe tbody tr th:only-of-type {\n",
       "        vertical-align: middle;\n",
       "    }\n",
       "\n",
       "    .dataframe tbody tr th {\n",
       "        vertical-align: top;\n",
       "    }\n",
       "\n",
       "    .dataframe thead th {\n",
       "        text-align: right;\n",
       "    }\n",
       "</style>\n",
       "<table border=\"1\" class=\"dataframe\">\n",
       "  <thead>\n",
       "    <tr style=\"text-align: right;\">\n",
       "      <th></th>\n",
       "      <th>Age</th>\n",
       "      <th>Salt_Intake</th>\n",
       "      <th>Stress_Score</th>\n",
       "      <th>BP_History</th>\n",
       "      <th>Sleep_Duration</th>\n",
       "      <th>BMI</th>\n",
       "      <th>Medication</th>\n",
       "      <th>Family_History</th>\n",
       "      <th>Exercise_Level</th>\n",
       "      <th>Smoking_Status</th>\n",
       "      <th>Has_Hypertension</th>\n",
       "    </tr>\n",
       "  </thead>\n",
       "  <tbody>\n",
       "    <tr>\n",
       "      <th>0</th>\n",
       "      <td>69</td>\n",
       "      <td>8.0</td>\n",
       "      <td>9</td>\n",
       "      <td>Normal</td>\n",
       "      <td>6.4</td>\n",
       "      <td>25.8</td>\n",
       "      <td>Beta Blocker</td>\n",
       "      <td>Yes</td>\n",
       "      <td>Low</td>\n",
       "      <td>Non-Smoker</td>\n",
       "      <td>Yes</td>\n",
       "    </tr>\n",
       "    <tr>\n",
       "      <th>1</th>\n",
       "      <td>32</td>\n",
       "      <td>11.7</td>\n",
       "      <td>10</td>\n",
       "      <td>Normal</td>\n",
       "      <td>5.4</td>\n",
       "      <td>23.4</td>\n",
       "      <td>Beta Blocker</td>\n",
       "      <td>No</td>\n",
       "      <td>Low</td>\n",
       "      <td>Non-Smoker</td>\n",
       "      <td>No</td>\n",
       "    </tr>\n",
       "    <tr>\n",
       "      <th>2</th>\n",
       "      <td>78</td>\n",
       "      <td>9.5</td>\n",
       "      <td>3</td>\n",
       "      <td>Normal</td>\n",
       "      <td>7.1</td>\n",
       "      <td>18.7</td>\n",
       "      <td>Beta Blocker</td>\n",
       "      <td>No</td>\n",
       "      <td>Moderate</td>\n",
       "      <td>Non-Smoker</td>\n",
       "      <td>No</td>\n",
       "    </tr>\n",
       "    <tr>\n",
       "      <th>3</th>\n",
       "      <td>38</td>\n",
       "      <td>10.0</td>\n",
       "      <td>10</td>\n",
       "      <td>Hypertension</td>\n",
       "      <td>4.2</td>\n",
       "      <td>22.1</td>\n",
       "      <td>ACE Inhibitor</td>\n",
       "      <td>No</td>\n",
       "      <td>Low</td>\n",
       "      <td>Non-Smoker</td>\n",
       "      <td>Yes</td>\n",
       "    </tr>\n",
       "    <tr>\n",
       "      <th>4</th>\n",
       "      <td>41</td>\n",
       "      <td>9.8</td>\n",
       "      <td>1</td>\n",
       "      <td>Prehypertension</td>\n",
       "      <td>5.8</td>\n",
       "      <td>16.2</td>\n",
       "      <td>Other</td>\n",
       "      <td>No</td>\n",
       "      <td>Moderate</td>\n",
       "      <td>Non-Smoker</td>\n",
       "      <td>No</td>\n",
       "    </tr>\n",
       "  </tbody>\n",
       "</table>\n",
       "</div>"
      ],
      "text/plain": [
       "   Age  Salt_Intake  Stress_Score       BP_History  Sleep_Duration   BMI  \\\n",
       "0   69          8.0             9           Normal             6.4  25.8   \n",
       "1   32         11.7            10           Normal             5.4  23.4   \n",
       "2   78          9.5             3           Normal             7.1  18.7   \n",
       "3   38         10.0            10     Hypertension             4.2  22.1   \n",
       "4   41          9.8             1  Prehypertension             5.8  16.2   \n",
       "\n",
       "      Medication Family_History Exercise_Level Smoking_Status Has_Hypertension  \n",
       "0   Beta Blocker            Yes            Low     Non-Smoker              Yes  \n",
       "1   Beta Blocker             No            Low     Non-Smoker               No  \n",
       "2   Beta Blocker             No       Moderate     Non-Smoker               No  \n",
       "3  ACE Inhibitor             No            Low     Non-Smoker              Yes  \n",
       "4          Other             No       Moderate     Non-Smoker               No  "
      ]
     },
     "execution_count": 15,
     "metadata": {},
     "output_type": "execute_result"
    }
   ],
   "source": [
    "df.head()"
   ]
  },
  {
   "cell_type": "code",
   "execution_count": 16,
   "id": "a09b7920-e2cb-4908-bf98-c037b50f46ec",
   "metadata": {},
   "outputs": [
    {
     "data": {
      "text/plain": [
       "Index(['Age', 'Salt_Intake', 'Stress_Score', 'BP_History', 'Sleep_Duration',\n",
       "       'BMI', 'Medication', 'Family_History', 'Exercise_Level',\n",
       "       'Smoking_Status', 'Has_Hypertension'],\n",
       "      dtype='object')"
      ]
     },
     "execution_count": 16,
     "metadata": {},
     "output_type": "execute_result"
    }
   ],
   "source": [
    "df.columns"
   ]
  },
  {
   "cell_type": "code",
   "execution_count": 17,
   "id": "f6f633d0-a2bc-4912-8353-6c2f45a98c66",
   "metadata": {},
   "outputs": [
    {
     "data": {
      "text/plain": [
       "array(['Normal', 'Hypertension', 'Prehypertension'], dtype=object)"
      ]
     },
     "execution_count": 17,
     "metadata": {},
     "output_type": "execute_result"
    }
   ],
   "source": [
    "df.BP_History.unique()"
   ]
  },
  {
   "cell_type": "code",
   "execution_count": 18,
   "id": "46624234-590c-4156-b9ed-6446da4a91d2",
   "metadata": {},
   "outputs": [
    {
     "data": {
      "text/plain": [
       "array(['Beta Blocker', 'ACE Inhibitor', 'Other', 'Diuretic'], dtype=object)"
      ]
     },
     "execution_count": 18,
     "metadata": {},
     "output_type": "execute_result"
    }
   ],
   "source": [
    "df.Medication.unique()"
   ]
  },
  {
   "cell_type": "code",
   "execution_count": 19,
   "id": "62469622-b8d2-4b32-aa7a-463b291d19f5",
   "metadata": {},
   "outputs": [
    {
     "data": {
      "text/plain": [
       "array(['Low', 'Moderate', 'High'], dtype=object)"
      ]
     },
     "execution_count": 19,
     "metadata": {},
     "output_type": "execute_result"
    }
   ],
   "source": [
    "df.Exercise_Level.unique()"
   ]
  },
  {
   "cell_type": "code",
   "execution_count": 20,
   "id": "bc43beac-f694-4501-8fbc-dc551a1d9e3e",
   "metadata": {},
   "outputs": [],
   "source": [
    "#Encoding the Columns of Catergorical data\n",
    "bp = {'Normal':0, 'Hypertension':1, 'Prehypertension':2}\n",
    "md = {'Beta Blocker':0, 'ACE Inhibitor':1, 'Other':2, 'Diuretic':3}\n",
    "exl = {'Low':0, 'Moderate':1, 'High':2}\n",
    "def bpEncode(val):\n",
    "    return bp[val]\n",
    "def mdEncode(val):\n",
    "    return md[val]\n",
    "def exlEncode(val):\n",
    "    return exl[val]"
   ]
  },
  {
   "cell_type": "code",
   "execution_count": 21,
   "id": "1056d7d9-f165-4cf6-84ea-b5093054c0e8",
   "metadata": {},
   "outputs": [],
   "source": [
    "df.BP_History = df.BP_History.map(bpEncode)"
   ]
  },
  {
   "cell_type": "code",
   "execution_count": 22,
   "id": "8a374870-0cad-4fa0-9378-fe923deadf6c",
   "metadata": {},
   "outputs": [],
   "source": [
    "df.Medication = df.Medication.map(mdEncode)"
   ]
  },
  {
   "cell_type": "code",
   "execution_count": 23,
   "id": "0f0a7ea1-6bf5-42a2-bc4c-7f20ecab0ffa",
   "metadata": {},
   "outputs": [],
   "source": [
    "df.Exercise_Level = df.Exercise_Level.map(exlEncode)"
   ]
  },
  {
   "cell_type": "code",
   "execution_count": 24,
   "id": "b6286a98-c2bb-4107-96d9-31a09fbaa4c5",
   "metadata": {},
   "outputs": [],
   "source": [
    "#Encode binary categorical columns (Yes/No or Smoker/Non-Smoker)\n",
    "binCol = ['Family_History', 'Smoking_Status', 'Has_Hypertension']\n",
    "for col in binCol:\n",
    "    df[col] = df[col].map({'Yes':1, 'No':0, 'Smoker':1, 'Non-Smoker':0})"
   ]
  },
  {
   "cell_type": "code",
   "execution_count": 25,
   "id": "341c9f49-476d-4988-b6d8-9a22a2e3b7f6",
   "metadata": {},
   "outputs": [
    {
     "data": {
      "text/html": [
       "<div>\n",
       "<style scoped>\n",
       "    .dataframe tbody tr th:only-of-type {\n",
       "        vertical-align: middle;\n",
       "    }\n",
       "\n",
       "    .dataframe tbody tr th {\n",
       "        vertical-align: top;\n",
       "    }\n",
       "\n",
       "    .dataframe thead th {\n",
       "        text-align: right;\n",
       "    }\n",
       "</style>\n",
       "<table border=\"1\" class=\"dataframe\">\n",
       "  <thead>\n",
       "    <tr style=\"text-align: right;\">\n",
       "      <th></th>\n",
       "      <th>Age</th>\n",
       "      <th>Salt_Intake</th>\n",
       "      <th>Stress_Score</th>\n",
       "      <th>BP_History</th>\n",
       "      <th>Sleep_Duration</th>\n",
       "      <th>BMI</th>\n",
       "      <th>Medication</th>\n",
       "      <th>Family_History</th>\n",
       "      <th>Exercise_Level</th>\n",
       "      <th>Smoking_Status</th>\n",
       "      <th>Has_Hypertension</th>\n",
       "    </tr>\n",
       "  </thead>\n",
       "  <tbody>\n",
       "    <tr>\n",
       "      <th>0</th>\n",
       "      <td>69</td>\n",
       "      <td>8.0</td>\n",
       "      <td>9</td>\n",
       "      <td>0</td>\n",
       "      <td>6.4</td>\n",
       "      <td>25.8</td>\n",
       "      <td>0</td>\n",
       "      <td>1</td>\n",
       "      <td>0</td>\n",
       "      <td>0</td>\n",
       "      <td>1</td>\n",
       "    </tr>\n",
       "    <tr>\n",
       "      <th>1</th>\n",
       "      <td>32</td>\n",
       "      <td>11.7</td>\n",
       "      <td>10</td>\n",
       "      <td>0</td>\n",
       "      <td>5.4</td>\n",
       "      <td>23.4</td>\n",
       "      <td>0</td>\n",
       "      <td>0</td>\n",
       "      <td>0</td>\n",
       "      <td>0</td>\n",
       "      <td>0</td>\n",
       "    </tr>\n",
       "    <tr>\n",
       "      <th>2</th>\n",
       "      <td>78</td>\n",
       "      <td>9.5</td>\n",
       "      <td>3</td>\n",
       "      <td>0</td>\n",
       "      <td>7.1</td>\n",
       "      <td>18.7</td>\n",
       "      <td>0</td>\n",
       "      <td>0</td>\n",
       "      <td>1</td>\n",
       "      <td>0</td>\n",
       "      <td>0</td>\n",
       "    </tr>\n",
       "    <tr>\n",
       "      <th>3</th>\n",
       "      <td>38</td>\n",
       "      <td>10.0</td>\n",
       "      <td>10</td>\n",
       "      <td>1</td>\n",
       "      <td>4.2</td>\n",
       "      <td>22.1</td>\n",
       "      <td>1</td>\n",
       "      <td>0</td>\n",
       "      <td>0</td>\n",
       "      <td>0</td>\n",
       "      <td>1</td>\n",
       "    </tr>\n",
       "    <tr>\n",
       "      <th>4</th>\n",
       "      <td>41</td>\n",
       "      <td>9.8</td>\n",
       "      <td>1</td>\n",
       "      <td>2</td>\n",
       "      <td>5.8</td>\n",
       "      <td>16.2</td>\n",
       "      <td>2</td>\n",
       "      <td>0</td>\n",
       "      <td>1</td>\n",
       "      <td>0</td>\n",
       "      <td>0</td>\n",
       "    </tr>\n",
       "  </tbody>\n",
       "</table>\n",
       "</div>"
      ],
      "text/plain": [
       "   Age  Salt_Intake  Stress_Score  BP_History  Sleep_Duration   BMI  \\\n",
       "0   69          8.0             9           0             6.4  25.8   \n",
       "1   32         11.7            10           0             5.4  23.4   \n",
       "2   78          9.5             3           0             7.1  18.7   \n",
       "3   38         10.0            10           1             4.2  22.1   \n",
       "4   41          9.8             1           2             5.8  16.2   \n",
       "\n",
       "   Medication  Family_History  Exercise_Level  Smoking_Status  \\\n",
       "0           0               1               0               0   \n",
       "1           0               0               0               0   \n",
       "2           0               0               1               0   \n",
       "3           1               0               0               0   \n",
       "4           2               0               1               0   \n",
       "\n",
       "   Has_Hypertension  \n",
       "0                 1  \n",
       "1                 0  \n",
       "2                 0  \n",
       "3                 1  \n",
       "4                 0  "
      ]
     },
     "execution_count": 25,
     "metadata": {},
     "output_type": "execute_result"
    }
   ],
   "source": [
    "df.head()"
   ]
  },
  {
   "cell_type": "code",
   "execution_count": 26,
   "id": "f0fe5993-47b2-431f-977d-287d638c3d27",
   "metadata": {},
   "outputs": [],
   "source": [
    "#Separate features and target\n",
    "X = df.drop('Has_Hypertension', axis=1)\n",
    "y = df['Has_Hypertension']"
   ]
  },
  {
   "cell_type": "code",
   "execution_count": 27,
   "id": "fa8adf54-c43c-42a5-9dd4-40d065932638",
   "metadata": {},
   "outputs": [],
   "source": [
    "#Train_test split\n",
    "X_train, X_test, y_train, y_test = train_test_split(X,y,test_size=0.2,random_state=42)"
   ]
  },
  {
   "cell_type": "code",
   "execution_count": 28,
   "id": "5c4f1f64-9ce1-4589-9a0d-bd4b81669389",
   "metadata": {},
   "outputs": [],
   "source": [
    "#Standardization\n",
    "scaler = StandardScaler()\n",
    "X_train_scaled = scaler.fit_transform(X_train)\n",
    "X_test_scaled = scaler.fit_transform(X_test)"
   ]
  },
  {
   "cell_type": "code",
   "execution_count": 29,
   "id": "be6e7446-813e-4924-9181-ea348b5d379e",
   "metadata": {},
   "outputs": [],
   "source": [
    "#Classification Models\n",
    "models = {\n",
    "    'LogisticRegression': LogisticRegression(max_iter=1000),\n",
    "    'KNN': KNeighborsClassifier(),\n",
    "    'DecisionTree': DecisionTreeClassifier(),\n",
    "    'RandomForest': RandomForestClassifier(),\n",
    "    'SVC': SVC(),\n",
    "    'NaiveBayes': GaussianNB(),\n",
    "    'GradientBoosting': GradientBoostingClassifier(),\n",
    "    'XGBoost': XGBClassifier(verbosity=0),\n",
    "    'LightGBM': LGBMClassifier(verbose=-1),\n",
    "    'MultilayerPerception': MLPClassifier(max_iter=500)\n",
    "}"
   ]
  },
  {
   "cell_type": "code",
   "execution_count": 30,
   "id": "2ebc1f87-d2fa-4ece-ba80-487b64faf329",
   "metadata": {},
   "outputs": [
    {
     "name": "stdout",
     "output_type": "stream",
     "text": [
      "Accuracy Scores With Standardization:\n",
      "\n",
      "LogisticRegression: Accuracy = 72.04%\n",
      "KNN: Accuracy = 82.12%\n",
      "DecisionTree: Accuracy = 92.7%\n",
      "RandomForest: Accuracy = 94.21%\n",
      "SVC: Accuracy = 87.66%\n",
      "NaiveBayes: Accuracy = 78.59%\n",
      "GradientBoosting: Accuracy = 97.98%\n",
      "XGBoost: Accuracy = 51.89%\n",
      "LightGBM: Accuracy = 98.24%\n",
      "MultilayerPerception: Accuracy = 90.43%\n"
     ]
    }
   ],
   "source": [
    "# Train and evalute each model\n",
    "print(\"Accuracy Scores With Standardization:\\n\")\n",
    "for name, model in models.items():\n",
    "    model.fit(X_train_scaled, y_train)\n",
    "    y_pred = model.predict(X_test_scaled)\n",
    "    acc = accuracy_score(y_test, y_pred)\n",
    "    print(f\"{name}: Accuracy = {round(acc * 100, 2)}%\")"
   ]
  },
  {
   "cell_type": "code",
   "execution_count": 33,
   "id": "96999eb4-5b97-439a-b9f4-9fc1a9fe9faa",
   "metadata": {},
   "outputs": [],
   "source": [
    "# Normalization\n",
    "scaler = MinMaxScaler()\n",
    "X_train_scaled = scaler.fit_transform(X_train)\n",
    "X_test_scaled = scaler.transform(X_test)"
   ]
  },
  {
   "cell_type": "code",
   "execution_count": 34,
   "id": "4c8022ce-57b9-477d-a581-c94f20a503e8",
   "metadata": {},
   "outputs": [
    {
     "name": "stdout",
     "output_type": "stream",
     "text": [
      "Accuracy Scores with Normalization:\n",
      "\n",
      "LogisticRegression: Accuracy = 71.79%\n",
      "KNN: Accuracy = 86.15%\n",
      "DecisionTree: Accuracy = 93.2%\n",
      "RandomForest: Accuracy = 95.72%\n",
      "SVC: Accuracy = 87.91%\n",
      "NaiveBayes: Accuracy = 78.84%\n",
      "GradientBoosting: Accuracy = 98.49%\n",
      "XGBoost: Accuracy = 98.24%\n",
      "LightGBM: Accuracy = 98.49%\n",
      "MultilayerPerception: Accuracy = 88.66%\n"
     ]
    }
   ],
   "source": [
    "#Train and evaluate each model\n",
    "print(\"Accuracy Scores with Normalization:\\n\")\n",
    "for name, model in models.items():\n",
    "    model.fit(X_train_scaled, y_train)\n",
    "    y_pred = model.predict(X_test_scaled)\n",
    "    acc = accuracy_score(y_test, y_pred)\n",
    "    print(f\"{name}: Accuracy = {round(acc * 100, 2)}%\")"
   ]
  },
  {
   "cell_type": "code",
   "execution_count": null,
   "id": "25d97ed3-22a0-4f41-921c-d5a1cddf1d84",
   "metadata": {},
   "outputs": [],
   "source": []
  }
 ],
 "metadata": {
  "kernelspec": {
   "display_name": "Python 3 (ipykernel)",
   "language": "python",
   "name": "python3"
  },
  "language_info": {
   "codemirror_mode": {
    "name": "ipython",
    "version": 3
   },
   "file_extension": ".py",
   "mimetype": "text/x-python",
   "name": "python",
   "nbconvert_exporter": "python",
   "pygments_lexer": "ipython3",
   "version": "3.13.1"
  }
 },
 "nbformat": 4,
 "nbformat_minor": 5
}
